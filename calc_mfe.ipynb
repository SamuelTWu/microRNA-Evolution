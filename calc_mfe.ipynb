{
 "cells": [
  {
   "cell_type": "code",
   "execution_count": 1,
   "metadata": {},
   "outputs": [],
   "source": [
    "import pandas as pd\n",
    "import numpy as np\n",
    "from numpy import loadtxt\n",
    "from scipy.stats import pearsonr\n",
    "\n",
    "SIZE = 7\n",
    "\n",
    "def sequence_count(string, dictionary):\n",
    "    for i in range(len(string)-(SIZE-1)):\n",
    "        temp_seq = string[i:i+(SIZE)]\n",
    "        dictionary[temp_seq]+= 1\n",
    "    return dictionary\n",
    "\n",
    "def print_map(filename, map_):\n",
    "    df=pd.DataFrame(map_)\n",
    "    df.to_csv(filename+'.csv', index= False, header = False)"
   ]
  },
  {
   "cell_type": "code",
   "execution_count": 2,
   "metadata": {},
   "outputs": [],
   "source": [
    "def get_seqs():\n",
    "    arr = ['A','T','C','G']\n",
    "    seqs = []\n",
    "    for a in arr:\n",
    "        for b in arr:\n",
    "            for c in arr:\n",
    "                for d in arr:\n",
    "                    for e in arr:\n",
    "                        for f in arr:\n",
    "                            for g in arr:\n",
    "                                for h in arr:\n",
    "                                    seq = a+b+c+d+e+f+g\n",
    "                                    seqs.append(seq)\n",
    "    return seqs  "
   ]
  },
  {
   "cell_type": "code",
   "execution_count": 3,
   "metadata": {},
   "outputs": [],
   "source": [
    "seqs = get_seqs()"
   ]
  },
  {
   "cell_type": "code",
   "execution_count": 4,
   "metadata": {},
   "outputs": [],
   "source": [
    "def create_isolated_heatmap(filename, seqs):\n",
    "    df = pd.read_csv(\"data/Human (Homo sapiens).csv\")\n",
    "    \n",
    "    #We are ignoring Pre and Post for this project\n",
    "    real_seeds = df['Seed']\n",
    "    \n",
    "    #create reverse compliments\n",
    "    real_seeds = [sub.replace('A', 'X') for sub in real_seeds]\n",
    "    real_seeds = [sub.replace('U', 'A') for sub in real_seeds]\n",
    "    real_seeds = [sub.replace('X', 'T') for sub in real_seeds]\n",
    "    real_seeds = [sub.replace('C', 'X') for sub in real_seeds]\n",
    "    real_seeds = [sub.replace('G', 'C') for sub in real_seeds]\n",
    "    real_seeds = [sub.replace('X', 'G') for sub in real_seeds]\n",
    "    real_seeds = [sub[::-1] for sub in real_seeds]\n",
    "    \n",
    "    seed_list = list(set(real_seeds))\n",
    "    output = []\n",
    "    for seq in seqs:\n",
    "        if seq in seed_list:\n",
    "            output.append(1)\n",
    "        else:\n",
    "            output.append(0)\n",
    "    return output\n"
   ]
  },
  {
   "cell_type": "code",
   "execution_count": 5,
   "metadata": {},
   "outputs": [],
   "source": [
    "has_seed = create_isolated_heatmap(\"data/Human (Homo sapiens).csv\", seqs)"
   ]
  },
  {
   "cell_type": "code",
   "execution_count": 6,
   "metadata": {},
   "outputs": [],
   "source": [
    "def calc_mfe(df, seqs):\n",
    "    output = []\n",
    "    for seq in seqs:\n",
    "        output.append(df[\"MFE\"][df[\"Seed\"]==seq].item())\n",
    "    return output"
   ]
  },
  {
   "cell_type": "code",
   "execution_count": 8,
   "metadata": {},
   "outputs": [],
   "source": [
    "df = pd.read_csv(\"data/Seed Match MFE.csv\")\n",
    "has_ggg = calc_mfe(df, seqs)"
   ]
  },
  {
   "cell_type": "code",
   "execution_count": 9,
   "metadata": {},
   "outputs": [
    {
     "name": "stdout",
     "output_type": "stream",
     "text": [
      "Pearson correlation: -0.0020439196292922337\n",
      "p-value: 0.6008114296605879\n"
     ]
    }
   ],
   "source": [
    "# Compute Pearson correlation and p-value\n",
    "correlation, p_value = pearsonr(has_seed, has_ggg)\n",
    "\n",
    "print(\"Pearson correlation:\", correlation)\n",
    "print(\"p-value:\", p_value)"
   ]
  }
 ],
 "metadata": {
  "kernelspec": {
   "display_name": "Python 3",
   "language": "python",
   "name": "python3"
  },
  "language_info": {
   "codemirror_mode": {
    "name": "ipython",
    "version": 3
   },
   "file_extension": ".py",
   "mimetype": "text/x-python",
   "name": "python",
   "nbconvert_exporter": "python",
   "pygments_lexer": "ipython3",
   "version": "3.10.5"
  },
  "orig_nbformat": 4
 },
 "nbformat": 4,
 "nbformat_minor": 2
}
