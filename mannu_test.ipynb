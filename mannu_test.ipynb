{
 "cells": [
  {
   "cell_type": "code",
   "execution_count": 1,
   "id": "78e8e9c8",
   "metadata": {},
   "outputs": [],
   "source": [
    "from scipy.stats import mannwhitneyu\n",
    "import pandas as pd"
   ]
  },
  {
   "cell_type": "code",
   "execution_count": 2,
   "id": "7f93ba55",
   "metadata": {},
   "outputs": [],
   "source": [
    "df = pd.read_csv(\"data/Seed vs 3'UTR % (site B ).csv\")"
   ]
  },
  {
   "cell_type": "code",
   "execution_count": 11,
   "id": "9b75d429",
   "metadata": {},
   "outputs": [],
   "source": [
    "target_non_mammal = df[\"Genes %\"][df[\"Category\"]==\"non-mammal\"]\n",
    "target_invertabrate = df[\"Genes %\"][df[\"Category\"]==\"invertabrate\"]"
   ]
  },
  {
   "cell_type": "code",
   "execution_count": 19,
   "id": "ce204f75",
   "metadata": {},
   "outputs": [],
   "source": [
    "seed_num_non_mammal = df[\"Seed Number\"][df[\"Category\"]==\"non-mammal\"]\n",
    "seed_num_invertabrate = df[\"Seed Number\"][df[\"Category\"]==\"invertabrate\"]"
   ]
  },
  {
   "cell_type": "code",
   "execution_count": 24,
   "id": "05b6895e",
   "metadata": {},
   "outputs": [],
   "source": [
    "target_non_mammal = df[\"Genes %\"][df[\"Category\"]==\"non-mammal\"]\n",
    "target_mammal = df[\"Genes %\"][df[\"Category\"]==\"mammal\"]"
   ]
  },
  {
   "cell_type": "code",
   "execution_count": null,
   "id": "b2ab36d9",
   "metadata": {},
   "outputs": [],
   "source": [
    "seed_num_non_mammal = df[\"Seed Number\"][df[\"Category\"]==\"non-mammal\"]\n",
    "seed_num_mammal = df[\"Seed Number\"][df[\"Category\"]==\"mammal\"]"
   ]
  },
  {
   "cell_type": "code",
   "execution_count": 32,
   "id": "3a2cf72d",
   "metadata": {},
   "outputs": [
    {
     "data": {
      "text/plain": [
       "139.25"
      ]
     },
     "execution_count": 32,
     "metadata": {},
     "output_type": "execute_result"
    }
   ],
   "source": [
    "seed_num_non_mammal.mean()"
   ]
  },
  {
   "cell_type": "code",
   "execution_count": 33,
   "id": "8a9109d5",
   "metadata": {},
   "outputs": [
    {
     "data": {
      "text/plain": [
       "303.45454545454544"
      ]
     },
     "execution_count": 33,
     "metadata": {},
     "output_type": "execute_result"
    }
   ],
   "source": [
    "seed_num_mammal.mean()"
   ]
  },
  {
   "cell_type": "code",
   "execution_count": 5,
   "id": "17816c6e",
   "metadata": {},
   "outputs": [],
   "source": [
    "gene_num_non_mammal = df[\"Genes Total\"][df[\"Category\"]==\"non-mammal\"]\n",
    "gene_num_mammal = df[\"Genes Total\"][df[\"Category\"]==\"mammal\"]"
   ]
  },
  {
   "cell_type": "code",
   "execution_count": 7,
   "id": "a291e5cf",
   "metadata": {},
   "outputs": [],
   "source": [
    "df = pd.read_csv(\"data/Seed vs 3'UTR Length.csv\")\n",
    "length_non_mammal = df[\"3'UTR Total Length  (nucleotides)\"][df[\"Category\"]==\"non-mammal\"]\n",
    "length_num_mammal = df[\"3'UTR Total Length  (nucleotides)\"][df[\"Category\"]==\"mammal\"]"
   ]
  },
  {
   "cell_type": "code",
   "execution_count": 8,
   "id": "cabab871",
   "metadata": {},
   "outputs": [
    {
     "data": {
      "text/plain": [
       "MannwhitneyuResult(statistic=54.0, pvalue=0.7168594361961285)"
      ]
     },
     "execution_count": 8,
     "metadata": {},
     "output_type": "execute_result"
    }
   ],
   "source": [
    "mannwhitneyu(length_non_mammal, length_num_mammal)"
   ]
  }
 ],
 "metadata": {
  "kernelspec": {
   "display_name": "Python 3",
   "language": "python",
   "name": "python3"
  },
  "language_info": {
   "codemirror_mode": {
    "name": "ipython",
    "version": 3
   },
   "file_extension": ".py",
   "mimetype": "text/x-python",
   "name": "python",
   "nbconvert_exporter": "python",
   "pygments_lexer": "ipython3",
   "version": "3.10.5"
  }
 },
 "nbformat": 4,
 "nbformat_minor": 5
}
