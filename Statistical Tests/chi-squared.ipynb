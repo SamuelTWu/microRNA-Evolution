{
 "cells": [
  {
   "attachments": {},
   "cell_type": "markdown",
   "metadata": {},
   "source": [
    "# Chi-Squared Goodness of Fit Test\n",
    "We compare the distribution of the population (seed match set) to that of the sample (seed set), and get the pvalue of the sample drawn. "
   ]
  },
  {
   "cell_type": "code",
   "execution_count": 1,
   "metadata": {},
   "outputs": [],
   "source": [
    "from numpy import loadtxt\n",
    "from scipy.stats import chisquare\n",
    "import numpy as np\n",
    "import pandas as pd"
   ]
  },
  {
   "cell_type": "code",
   "execution_count": 8,
   "metadata": {},
   "outputs": [],
   "source": [
    "def genome_comp():\n",
    "    a = 0\n",
    "    t = 0\n",
    "    g = 0\n",
    "    c = 0\n",
    "    total = 0\n",
    "    filename_data = loadtxt(\"data/all_species_genomes.txt\", comments=\">\",dtype=\"str\")\n",
    "    for line in filename_data:\n",
    "        for char in line:\n",
    "            match char:\n",
    "                case 'A':\n",
    "                    total +=1\n",
    "                    a+=1\n",
    "                case 'T':\n",
    "                    total +=1\n",
    "                    t+=1\n",
    "                case 'C':\n",
    "                    total +=1\n",
    "                    c+=1\n",
    "                case 'G':\n",
    "                    total +=1\n",
    "                    g+=1\n",
    "                case _:\n",
    "                    pass\n",
    "    return np.array([a/total,t/total,g/total,c/total])\n",
    "\n",
    "#SEED A's, U's, C's and G's\n",
    "def seed_comp(canon_site='B'):\n",
    "    #returns real coverage and seed number from mature data\n",
    "    df = pd.read_csv(\"data/Human (Homo sapiens).csv\")\n",
    "    \n",
    "    #We are ignoring Pre and Post for this project\n",
    "    real_seeds = df['Seed']\n",
    "    \n",
    "    #create reverse compliments\n",
    "    real_seeds = [sub.replace('A', 'X') for sub in real_seeds]\n",
    "    real_seeds = [sub.replace('U', 'A') for sub in real_seeds]\n",
    "    real_seeds = [sub.replace('X', 'T') for sub in real_seeds]\n",
    "    real_seeds = [sub.replace('C', 'X') for sub in real_seeds]\n",
    "    real_seeds = [sub.replace('G', 'C') for sub in real_seeds]\n",
    "    real_seeds = [sub.replace('X', 'G') for sub in real_seeds]\n",
    "    real_seeds = [sub[::-1] for sub in real_seeds]\n",
    "    \n",
    "    #If canon site A or C, append A at the end\n",
    "    if canon_site == 'A':\n",
    "        real_seeds = [item[:-1]+'A' for item in real_seeds]\n",
    "    elif canon_site == 'C':\n",
    "        real_seeds = [item+'A' for item in real_seeds]\n",
    "    #remove repeats\n",
    "    real_seeds = [*set(real_seeds)]\n",
    "    count_a = sum(s.count('A') for s in real_seeds)\n",
    "    count_t = sum(s.count('T') for s in real_seeds)\n",
    "    count_g = sum(s.count('G') for s in real_seeds)\n",
    "    count_c = sum(s.count('C') for s in real_seeds)\n",
    "    \n",
    "    return np.array([count_a,count_t,count_g,count_c])\n"
   ]
  },
  {
   "cell_type": "code",
   "execution_count": 9,
   "metadata": {},
   "outputs": [],
   "source": [
    "observed = seed_comp()\n",
    "total = sum(observed)\n",
    "expected = genome_comp() \n",
    "expected_total = expected*total"
   ]
  },
  {
   "cell_type": "code",
   "execution_count": 10,
   "metadata": {},
   "outputs": [
    {
     "data": {
      "text/plain": [
       "array([0.27491141, 0.30118026, 0.21297679, 0.21093154])"
      ]
     },
     "execution_count": 10,
     "metadata": {},
     "output_type": "execute_result"
    }
   ],
   "source": [
    "expected"
   ]
  },
  {
   "cell_type": "code",
   "execution_count": 11,
   "metadata": {},
   "outputs": [
    {
     "data": {
      "text/plain": [
       "array([674, 734, 652, 684])"
      ]
     },
     "execution_count": 11,
     "metadata": {},
     "output_type": "execute_result"
    }
   ],
   "source": [
    "observed"
   ]
  },
  {
   "cell_type": "code",
   "execution_count": 12,
   "metadata": {},
   "outputs": [
    {
     "data": {
      "text/plain": [
       "array([754.35689958, 826.43863186, 584.40831813, 578.79615043])"
      ]
     },
     "execution_count": 12,
     "metadata": {},
     "output_type": "execute_result"
    }
   ],
   "source": [
    "expected_total"
   ]
  },
  {
   "cell_type": "code",
   "execution_count": 13,
   "metadata": {},
   "outputs": [
    {
     "name": "stdout",
     "output_type": "stream",
     "text": [
      "Chi-squared statistic: 45.83907108489761\n",
      "P-value: 6.136380494055315e-10\n"
     ]
    }
   ],
   "source": [
    "#perform chi-squared test\n",
    "chi2_stat, p_value = chisquare(f_obs=observed, f_exp=expected_total)\n",
    "\n",
    "print(f\"Chi-squared statistic: {chi2_stat}\")\n",
    "print(f\"P-value: {p_value}\")"
   ]
  }
 ],
 "metadata": {
  "kernelspec": {
   "display_name": "Python 3",
   "language": "python",
   "name": "python3"
  },
  "language_info": {
   "codemirror_mode": {
    "name": "ipython",
    "version": 3
   },
   "file_extension": ".py",
   "mimetype": "text/x-python",
   "name": "python",
   "nbconvert_exporter": "python",
   "pygments_lexer": "ipython3",
   "version": "3.10.5"
  },
  "orig_nbformat": 4
 },
 "nbformat": 4,
 "nbformat_minor": 2
}
