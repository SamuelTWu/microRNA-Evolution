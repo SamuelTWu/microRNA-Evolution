{
 "cells": [
  {
   "cell_type": "code",
   "execution_count": 78,
   "id": "b3941c37",
   "metadata": {},
   "outputs": [],
   "source": [
    "import pandas as pd\n",
    "from scipy.stats import mannwhitneyu\n",
    "from scipy import stats\n",
    "import matplotlib.pyplot as plt"
   ]
  },
  {
   "cell_type": "code",
   "execution_count": 102,
   "id": "0ea7e978",
   "metadata": {},
   "outputs": [],
   "source": [
    "invertabrates = [\n",
    "    \"('Caenorhabditis elegans (PRJNA13758) genes (WBcel235)', 'Roundworm (Caenorhabditis elegans)')\",\n",
    "    \"('Drosophila melanogaster (Fruit fly) genes (BDGP6.46)', 'Fruit fly (Drosophila melanogaster)')\",\n",
    "    \"('Caenorhabditis briggsae genes', 'Roundworm (Caenorhabditis briggsae)')\",\n",
    "    \"('Ciona intestinalis genes', 'Sea Squirt (Ciona intestinalis)')\",\n",
    "    \"('Drosophila ananassae genes', 'Fruit fly (Drosophila ananassae)')\",\n",
    "    \"('Drosophila simulans genes', 'Fruit fly (Drosophila simulans)')\",\n",
    "    \"('Drosophila yakuba genes', 'Fruit fly (Drosophila yakuba)')\",\n",
    "    \"('Octopus bimaculoides (California two-spot octopus, UCB-OBI-ISO-001)', 'California two-spot octopus (Octopus bimaculoides)')\"\n",
    "   ]\n",
    "\n",
    "vertabrates = [\n",
    "    \"('Hagfish genes (Eburgeri_3.2)', 'Inshore hagfish (Eptatretus burgeri)')\",\n",
    "    \"('Elephant shark genes (Callorhinchus_milii-6.1.3)', 'Australian ghostshark (Callorhinchus milii)')\",\n",
    "    \"('Spotted gar genes (LepOcu1)', 'Spotted gar (Lepisosteus oculatus)')\",\n",
    "    \"('Zebrafish genes (GRCz11)', 'Zebrafish (Danio rerio)')\",\n",
    "    \"('Atlantic cod genes (gadMor3.0)', 'Cod (Gadus morhua)')\",\n",
    "    \"('Coelacanth genes (LatCha1)', 'Coelacanth (Latimeria chalumnae)')\",\n",
    "    \"('Tropical clawed frog genes (Xenopus_tropicalis_v9.1)', 'Tropical clawed frog (Xenopus tropicalis)')\",\n",
    "    \"('Tuatara genes (ASM311381v1)', 'Tuatara (Sphenodon punctatus)')\",\n",
    "    \"('Green anole genes (AnoCar2.0v2)', 'Green anole lizard (Anolis carolinensis)')\",\n",
    "    \"('Painted turtle genes (Chrysemys_picta_bellii-3.0.3)', 'Western painted turtle (Chrysemys picta bellii)')\",\n",
    "    \"('Zebra finch genes (bTaeGut1_v1.p)', 'Zebra finch (Taeniopygia guttata)')\",\n",
    "    \"('Chicken (maternal Broiler) genes (bGalGal1.mat.broiler.GRCg7b)', 'Chicken (Gallus gallus)')\",\n",
    "    \"('Platypus genes (mOrnAna1.p.v1)', 'Platypus (Ornithorhynchus anatinus)')\",\n",
    "    \"('Opossum genes (ASM229v1)', 'Gray short-tailed opossum (Monodelphis domestica)')\",\n",
    "    \"('Armadillo genes (Dasnov3.0)', 'Nine-banded armadillo (Dasypus novemcinctus)')\",\n",
    "    \"('Cow genes (ARS-UCD1.2)', 'Cow (Bos taurus)')\",\n",
    "    \"('Dog genes (ROS_Cfam_1.0)', 'Dog (Canis familiaris)')\",\n",
    "    \"('Rabbit genes (OryCun2.0)', 'Rabbit (Oryctolagus cuniculus)')\",\n",
    "    \"('Guinea Pig genes (Cavpor3.0)', 'Guinea pig (Cavia porcellus)')\",\n",
    "    \"('Rat genes (mRatBN7.2)', 'Norway rat (Rattus norvegicus)')\",\n",
    "    \"('Mouse genes (GRCm39)', 'House mouse (Mus musculus)')\",\n",
    "    \"('Human genes (GRCh38.p13)', 'Human (Homo sapiens)')\",\n",
    "    \"('Human TargetScan', 'Human (Homo sapiens) TargetScan')\"\n",
    "]"
   ]
  },
  {
   "cell_type": "code",
   "execution_count": 103,
   "id": "f40f767a",
   "metadata": {},
   "outputs": [],
   "source": [
    "df = pd.read_csv(\"data/Difference Data (site C ).csv\")\n",
    "invertabrates_random = df.loc[df['Species'].isin(invertabrates), 'Random Difference Percent']\n",
    "vertabrates_random = df.loc[df['Species'].isin(vertabrates), 'Random Difference Percent']\n",
    "\n",
    "invertabrates_optimal = df.loc[df['Species'].isin(invertabrates), 'Optimal Difference Percent']\n",
    "vertabrates_optimal = df.loc[df['Species'].isin(vertabrates), 'Optimal Difference Percent']\n"
   ]
  },
  {
   "cell_type": "code",
   "execution_count": 111,
   "id": "0daa7322",
   "metadata": {},
   "outputs": [],
   "source": [
    "invertabrates_random_percent = (-invertabrates_random) / (invertabrates_optimal - invertabrates_random )\n",
    "vertabrates_random_percent = (-vertabrates_random) / (vertabrates_optimal - vertabrates_random )"
   ]
  },
  {
   "cell_type": "code",
   "execution_count": 113,
   "id": "1b4d06f4",
   "metadata": {},
   "outputs": [
    {
     "data": {
      "text/plain": [
       "MannwhitneyuResult(statistic=9.0, pvalue=2.433853379348374e-05)"
      ]
     },
     "execution_count": 113,
     "metadata": {},
     "output_type": "execute_result"
    }
   ],
   "source": [
    "mannwhitneyu(invertabrates_random_percent, vertabrates_random_percent)"
   ]
  },
  {
   "cell_type": "code",
   "execution_count": 114,
   "id": "7cdb1c4b",
   "metadata": {},
   "outputs": [
    {
     "name": "stdout",
     "output_type": "stream",
     "text": [
      "T-statistic: -4.878778897642362\n",
      "P-value: 3.552776672530409e-05\n"
     ]
    }
   ],
   "source": [
    "t_statistic, p_value = stats.ttest_ind(invertabrates_random_percent, vertabrates_random_percent)\n",
    "print(f\"T-statistic: {t_statistic}\")\n",
    "print(f\"P-value: {p_value}\")"
   ]
  },
  {
   "cell_type": "code",
   "execution_count": null,
   "id": "8778f48e",
   "metadata": {},
   "outputs": [
    {
     "data": {
      "image/png": "[encoded data removed]",
      "text/plain": [
       "<Figure size 432x288 with 1 Axes>"
      ]
     },
     "metadata": {
      "needs_background": "light"
     },
     "output_type": "display_data"
    }
   ],
   "source": [
    "data_to_plot = [invertabrates_random_percent, vertabrates_random_percent]\n",
    "plt.boxplot(data_to_plot)\n",
    "plt.xticks([1, 2], ['Invertebrate', 'Vertabrate']) # Labels for the x-axis\n",
    "plt.ylabel('Percent')\n",
    "plt.show()"
   ]
  }
 ],
 "metadata": {
  "kernelspec": {
   "display_name": "Python 3",
   "language": "python",
   "name": "python3"
  },
  "language_info": {
   "codemirror_mode": {
    "name": "ipython",
    "version": 3
   },
   "file_extension": ".py",
   "mimetype": "text/x-python",
   "name": "python",
   "nbconvert_exporter": "python",
   "pygments_lexer": "ipython3",
   "version": "3.10.5"
  }
 },
 "nbformat": 4,
 "nbformat_minor": 5
}
