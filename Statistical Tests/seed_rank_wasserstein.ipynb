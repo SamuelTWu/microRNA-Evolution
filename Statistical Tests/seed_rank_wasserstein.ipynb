{
 "cells": [
  {
   "cell_type": "markdown",
   "id": "3f8b79f3",
   "metadata": {},
   "source": [
    "## Mann U Test (aka Wilcoxon Rank Sum test)\n",
    "### for seed rank"
   ]
  },
  {
   "cell_type": "code",
   "execution_count": 13,
   "id": "69938013",
   "metadata": {},
   "outputs": [],
   "source": [
    "import ast\n",
    "import numpy as np\n",
    "from scipy.stats import wasserstein_distance\n",
    "import os\n",
    "import statistics\n",
    "from sklearn.preprocessing import MinMaxScaler"
   ]
  },
  {
   "cell_type": "code",
   "execution_count": 20,
   "id": "bc7ddc22",
   "metadata": {},
   "outputs": [],
   "source": [
    "def load_or_average(folder_path, base_name):\n",
    "    \"\"\"Load data from base_name.txt if it exists, otherwise average base_name0.txt ... base_name19.txt.\"\"\"\n",
    "    file_path = os.path.join(folder_path, f\"{base_name}.txt\")\n",
    "    \n",
    "    if os.path.exists(file_path):\n",
    "        # Load single file\n",
    "        with open(file_path, 'r') as f:\n",
    "            data = ast.literal_eval(f.read())\n",
    "        data.sort(reverse=True)\n",
    "        return data\n",
    "    else:\n",
    "        # Load and average multiple files\n",
    "        all_lists = []\n",
    "        for i in range(20):\n",
    "            alt_path = os.path.join(folder_path, f\"{base_name}{i}.txt\")\n",
    "            if os.path.exists(alt_path):\n",
    "                with open(alt_path, 'r') as f:\n",
    "                    lst = ast.literal_eval(f.read())\n",
    "                lst.sort(reverse=True)\n",
    "                all_lists.append(lst)\n",
    "        \n",
    "        if not all_lists:\n",
    "            raise FileNotFoundError(f\"No files found for {base_name} in {folder_path}\")\n",
    "        \n",
    "        # Average element-wise\n",
    "        list_length = len(all_lists[0])\n",
    "        for lst in all_lists:\n",
    "            if len(lst) != list_length:\n",
    "                raise ValueError(f\"Length mismatch in {base_name} files inside {folder_path}\")\n",
    "        \n",
    "        mean_list = [statistics.mean(values) for values in zip(*all_lists)]\n",
    "        print(mean_list)\n",
    "        return mean_list\n",
    "\n",
    "def get_rank_data(genome_filename, canon_site, replacement):\n",
    "    base_folder = f\"Final Seed Count/{genome_filename}/Canon Site {canon_site}/Replacement_{replacement}\"\n",
    "    \n",
    "    # Retrieve real data\n",
    "    real_data = load_or_average(base_folder, \"real\")  # This will just load real.txt normally\n",
    "    \n",
    "    # Retrieve optimal data (with fallback to averaging)\n",
    "    optimal_data = load_or_average(base_folder, \"optimal\")\n",
    "    \n",
    "    # Retrieve random data (with fallback to averaging)\n",
    "    random_data = load_or_average(base_folder, \"random\")\n",
    "    \n",
    "    return real_data, optimal_data, random_data"
   ]
  },
  {
   "cell_type": "code",
   "execution_count": 15,
   "id": "2cdafa9b",
   "metadata": {},
   "outputs": [],
   "source": [
    "def wasserstein(x_real, x_rand, x_opt):# Your real samples:\n",
    "   # Convert to arrays and reshape\n",
    "    x_real = np.array(x_real).reshape(-1, 1)\n",
    "    x_rand = np.array(x_rand).reshape(-1, 1)\n",
    "    x_opt = np.array(x_opt).reshape(-1, 1)\n",
    "\n",
    "    # Fit scaler only on x_opt\n",
    "    scaler = MinMaxScaler()\n",
    "    scaler.fit(x_opt)\n",
    "\n",
    "    # Transform all using the same scaler\n",
    "    x_opt = scaler.transform(x_opt).flatten()\n",
    "    x_real = scaler.transform(x_real).flatten()\n",
    "    x_rand = scaler.transform(x_rand).flatten()\n",
    "\n",
    "    dist_rand = wasserstein_distance(x_real, x_rand)\n",
    "    dist_opt = wasserstein_distance(x_real, x_opt)\n",
    "\n",
    "    #combine real+rand samples\n",
    "    real_rand_combined = np.concatenate([x_real, x_rand])\n",
    "    real_opt_combined = np.concatenate([x_real, x_opt])\n",
    "    n_real = len(x_real)\n",
    "    n_permutations = 10000 \n",
    "    perm_rand = []\n",
    "    perm_opt = []\n",
    "    for _ in range(n_permutations):\n",
    "        np.random.shuffle(real_rand_combined)\n",
    "        np.random.shuffle(real_opt_combined)\n",
    "        rand_sample_real = real_rand_combined[:n_real]\n",
    "        rand_sample_rand = real_rand_combined[n_real:]\n",
    "\n",
    "        opt_sample_real = real_opt_combined[:n_real]\n",
    "        opt_sample_opt = real_opt_combined[n_real:]\n",
    "\n",
    "        d_rand = wasserstein_distance(rand_sample_real, rand_sample_rand)\n",
    "        d_opt = wasserstein_distance(opt_sample_real, opt_sample_opt)\n",
    "        perm_rand.append(d_rand)\n",
    "        perm_opt.append(d_opt)\n",
    "\n",
    "    # Two-tailed p-value: proportion of permuted distances >= observed\n",
    "    p_value_rand = np.mean(np.array(perm_rand) >= dist_rand)\n",
    "    p_value_opt = np.mean(np.array(perm_opt) >= dist_opt)\n",
    "\n",
    "    print(f\"Random Wasserstein distance: {dist_rand:.4f}, P-value: {p_value_rand:.4f}\")\n",
    "    print(f\"Optimal Wasserstein distance: {dist_opt:.4f}, P-value: {p_value_opt:.4f}\")"
   ]
  },
  {
   "cell_type": "markdown",
   "id": "70751788",
   "metadata": {},
   "source": [
    "# Calculations for Mature Data"
   ]
  },
  {
   "cell_type": "code",
   "execution_count": 4,
   "id": "872e4474",
   "metadata": {},
   "outputs": [
    {
     "name": "stdout",
     "output_type": "stream",
     "text": [
      "Random Wasserstein distance: 0.0632, P-value: 0.0000\n",
      "Optimal Wasserstein distance: 0.1053, P-value: 0.0000\n"
     ]
    }
   ],
   "source": [
    "x_real, x_opt, x_rand = get_rank_data(\"Human genes (GRCh38.p13)\",'B', True)\n",
    "wasserstein(x_real, x_rand, x_opt)"
   ]
  },
  {
   "cell_type": "code",
   "execution_count": 22,
   "id": "43f3b777",
   "metadata": {},
   "outputs": [
    {
     "name": "stdout",
     "output_type": "stream",
     "text": [
      "Random Wasserstein distance: 0.0174, P-value: 0.0999\n",
      "Optimal Wasserstein distance: 0.1954, P-value: 0.0000\n"
     ]
    }
   ],
   "source": [
    "x_real, x_opt, x_rand = get_rank_data(\"Drosophila melanogaster (Fruit fly) genes (BDGP6.46)\",'B', True)\n",
    "wasserstein(x_real, x_rand, x_opt)"
   ]
  },
  {
   "cell_type": "code",
   "execution_count": 6,
   "id": "798e71db",
   "metadata": {},
   "outputs": [
    {
     "name": "stdout",
     "output_type": "stream",
     "text": [
      "Random Wasserstein distance: 0.0212, P-value: 0.0099\n",
      "Optimal Wasserstein distance: 0.2469, P-value: 0.0000\n"
     ]
    }
   ],
   "source": [
    "x_real, x_opt, x_rand = get_rank_data(\"Caenorhabditis elegans (PRJNA13758) genes (WBcel235)\",'B', True)\n",
    "wasserstein(x_real, x_rand, x_opt)"
   ]
  },
  {
   "cell_type": "markdown",
   "id": "322948e8",
   "metadata": {},
   "source": [
    "# Calculations for Star Data"
   ]
  },
  {
   "cell_type": "code",
   "execution_count": 16,
   "id": "47115aa9",
   "metadata": {},
   "outputs": [
    {
     "name": "stdout",
     "output_type": "stream",
     "text": [
      "Random Wasserstein distance: 0.0339, P-value: 0.0000\n",
      "Optimal Wasserstein distance: 0.1283, P-value: 0.0000\n"
     ]
    }
   ],
   "source": [
    "x_real, x_opt, x_rand = get_rank_data(\"Human genes (GRCh38.p13)_star\",'C', True)\n",
    "wasserstein(x_real, x_rand, x_opt)"
   ]
  },
  {
   "cell_type": "code",
   "execution_count": 21,
   "id": "856b0a8d",
   "metadata": {},
   "outputs": [
    {
     "name": "stdout",
     "output_type": "stream",
     "text": [
      "[3379, 3284, 3244, 3029, 3027, 2970, 2592.6, 2360.2, 2256.85, 2181.2, 2151.1, 2102.55, 2053.95, 2007.35, 1952.1, 1915.25, 1905.55, 1894.25, 1836.45, 1782.15, 1756.95, 1744.8, 1738.35, 1731.2, 1721.55, 1710.05, 1694.55, 1680.5, 1665.55, 1651.9, 1637.25, 1622.2, 1602.05, 1578.55, 1561.7, 1541.5, 1523.7, 1509.05, 1493.3, 1473.55, 1460.7, 1446.8, 1434.5, 1411.2, 1401.6, 1392.5, 1382.05, 1376.2, 1372.6, 1359.3, 1350.75, 1337.55, 1316.3, 1304.4, 1287.2, 1278, 1267, 1255.85, 1242.85, 1229.6, 1215.55, 1200.45, 1189.75, 1177.7, 1164.6, 1142.65, 1124.2, 1113.5, 1098.1, 1080.35, 1036.3, 1018.5, 1002.8, 995.5, 978.5, 972.35, 935.85, 911.65, 881.7, 853.65, 837.8, 824.7, 806.3, 791.45, 778, 765.65, 753.4, 742.4, 729.4, 720.85, 714.7, 706.8, 696, 686.3, 672.95, 659.3, 643.8, 633.6, 621.8, 607.95, 596.2, 584.4, 572.1, 561.85, 551.4, 542.2, 531.75, 523.65, 507.45, 491.7, 479.25, 466.85, 456.6, 448.5, 431.85, 419.85, 396.95, 382.1, 360.6, 331.1, 294.15, 266.15, 206.75]\n",
      "[1514.1, 1156.05, 976.2, 838.95, 737.85, 627.2, 588.95, 537.95, 503.8, 473.1, 454.85, 429.75, 410.9, 389.85, 375.15, 362.05, 345.9, 334.05, 323.05, 315.95, 306.75, 297.6, 291.35, 285.4, 277.15, 267.8, 263.25, 253.25, 248, 242.3, 236.2, 231, 225.75, 221.6, 217.45, 213.25, 210.7, 205.5, 201.35, 198.75, 195.2, 191.65, 188.15, 185.25, 181.45, 178.6, 175.7, 173.15, 170.45, 166.15, 163.4, 160.35, 157.95, 155.75, 153.7, 151.4, 149.6, 148.15, 144.8, 143.2, 141.85, 140.55, 137.7, 135.05, 133.1, 131.35, 128.5, 126.75, 124.85, 123, 120.4, 118.85, 116.5, 115.2, 113.6, 112.15, 111, 109.05, 107.35, 105.65, 104.25, 101.95, 100.5, 99.05, 97.5, 96, 94.15, 92.95, 91.75, 89.9, 88.4, 86.85, 85.55, 83.75, 82.25, 80.85, 79.55, 78.1, 76.3, 75, 73.45, 71.5, 69.9, 68.25, 66.7, 65.1, 63.65, 62.6, 61.25, 60.05, 58.55, 57.3, 55.95, 53.75, 52.4, 50.95, 49.25, 46.55, 43.6, 40.45, 35.9, 31.4, 23.95]\n",
      "Random Wasserstein distance: 0.0320, P-value: 0.0041\n",
      "Optimal Wasserstein distance: 0.2959, P-value: 0.0000\n"
     ]
    }
   ],
   "source": [
    "x_real, x_opt, x_rand = get_rank_data(\"Drosophila melanogaster (Fruit fly) genes (BDGP6.46)_star\",'C', True)\n",
    "wasserstein(x_real, x_rand, x_opt)"
   ]
  },
  {
   "cell_type": "markdown",
   "id": "46fb2bbf",
   "metadata": {},
   "source": [
    "# Calculations for Human on Fly"
   ]
  },
  {
   "cell_type": "code",
   "execution_count": 23,
   "id": "df6fae99",
   "metadata": {},
   "outputs": [
    {
     "name": "stdout",
     "output_type": "stream",
     "text": [
      "Random Wasserstein distance: 0.0057, P-value: 0.6999\n",
      "Optimal Wasserstein distance: 0.0703, P-value: 0.0000\n"
     ]
    }
   ],
   "source": [
    "x_real, x_opt, x_rand = get_rank_data(\"Human vs Fly\",'C', True)\n",
    "wasserstein(x_real, x_rand, x_opt)"
   ]
  }
 ],
 "metadata": {
  "kernelspec": {
   "display_name": "Python 3",
   "language": "python",
   "name": "python3"
  },
  "language_info": {
   "codemirror_mode": {
    "name": "ipython",
    "version": 3
   },
   "file_extension": ".py",
   "mimetype": "text/x-python",
   "name": "python",
   "nbconvert_exporter": "python",
   "pygments_lexer": "ipython3",
   "version": "3.10.5"
  }
 },
 "nbformat": 4,
 "nbformat_minor": 5
}
