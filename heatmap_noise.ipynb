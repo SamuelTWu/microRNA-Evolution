{
 "cells": [
  {
   "cell_type": "code",
   "execution_count": 1,
   "id": "5ef63232",
   "metadata": {},
   "outputs": [],
   "source": [
    "import numpy as np\n",
    "import pandas as pd\n",
    "from scipy.ndimage import generic_filter\n",
    "from scipy.stats import mannwhitneyu"
   ]
  },
  {
   "cell_type": "code",
   "execution_count": 2,
   "id": "56a9ed04",
   "metadata": {},
   "outputs": [],
   "source": [
    "def normalize_image(image):\n",
    "    min_val = np.min(image)\n",
    "    max_val = np.max(image)\n",
    "    return (image - min_val) / (max_val - min_val + 1e-8)\n",
    "\n",
    "def total_variation(image):\n",
    "    dx = np.diff(image, axis=1)  # horizontal diffs\n",
    "    dy = np.diff(image, axis=0)  # vertical diffs\n",
    "    # Pad shorter arrays to match shape\n",
    "    dx = np.pad(dx, ((0,0), (0,1)), mode='constant')\n",
    "    dy = np.pad(dy, ((0,1), (0,0)), mode='constant')\n",
    "    return np.sum(np.sqrt(dx**2 + dy**2))\n",
    "\n",
    "def local_std(image, size=3):\n",
    "    return np.mean(generic_filter(image, np.std, size=(size, size)))\n",
    "\n",
    "def calc_total_variation(image):\n",
    "    norm = normalize_image(image)\n",
    "    return total_variation(norm)\n",
    "\n",
    "def calc_local_std(image):\n",
    "    norm = normalize_image(image)\n",
    "    return local_std(norm)\n",
    "    "
   ]
  },
  {
   "cell_type": "code",
   "execution_count": 3,
   "id": "f54dbd5d",
   "metadata": {},
   "outputs": [],
   "source": [
    "#all mammals:\n",
    "mammals = [\n",
    "    \"Platypus genes (mOrnAna1.p.v1)_map\",\n",
    "    \"Opossum genes (ASM229v1)_map\",\n",
    "    \"Armadillo genes (Dasnov3.0)_map\",\n",
    "    \"Cow genes (ARS-UCD1.2)_map\",\n",
    "    \"Dog genes (ROS_Cfam_1.0)_map\",\n",
    "    \"Rabbit genes (OryCun2.0)_map\",\n",
    "    \"Guinea Pig genes (Cavpor3.0)_map\",\n",
    "    \"Rat genes (mRatBN7.2)_map\",\n",
    "    \"Mouse genes (GRCm39)_map\",\n",
    "    \"Human genes (GRCh38.p13)_map\"\n",
    "]\n",
    "\n",
    "non_mammals = [\n",
    "    \"Hagfish genes (Eburgeri_3.2)_map\",\n",
    "    \"Elephant shark genes (Callorhinchus_milii-6.1.3)_map\",\n",
    "    \"Spotted gar genes (LepOcu1)_map\",\n",
    "    \"Zebrafish genes (GRCz11)_map\",\n",
    "    \"Atlantic cod genes (gadMor3.0)_map\",\n",
    "    \"Coelacanth genes (LatCha1)_map\",\n",
    "    \"Tropical clawed frog genes (Xenopus_tropicalis_v9.1)_map\",\n",
    "    \"Tuatara genes (ASM311381v1)_map\",\n",
    "    \"Green anole genes (AnoCar2.0v2)_map\",\n",
    "    \"Painted turtle genes (Chrysemys_picta_bellii-3.0.3)_map\",\n",
    "    \"Zebra finch genes (bTaeGut1_v1.p)_map\"\n",
    "]"
   ]
  },
  {
   "cell_type": "code",
   "execution_count": 4,
   "id": "ee38943b",
   "metadata": {},
   "outputs": [],
   "source": [
    "mammal_maps = []\n",
    "non_mammal_maps = []\n",
    "for mammal in mammals:\n",
    "    mammal_maps.append(pd.read_csv(\"data/\"+mammal+\".csv\", header=None).values)\n",
    "non_mammal_maps = []\n",
    "for non_mammal in non_mammals:\n",
    "    non_mammal_maps.append(pd.read_csv(\"data/\"+non_mammal+\".csv\", header=None).values)"
   ]
  },
  {
   "cell_type": "code",
   "execution_count": 5,
   "id": "3c41a7ff",
   "metadata": {},
   "outputs": [],
   "source": [
    "mammal_tv = [calc_total_variation(mammal) for mammal in mammal_maps]\n",
    "mammal_std = [calc_local_std(mammal) for mammal in mammal_maps]\n",
    "\n",
    "non_mammal_tv = [calc_total_variation(non_mammal) for non_mammal in non_mammal_maps]\n",
    "non_mammal_std = [calc_local_std(non_mammal) for non_mammal in non_mammal_maps]"
   ]
  },
  {
   "cell_type": "code",
   "execution_count": 10,
   "id": "6dab6cd0",
   "metadata": {},
   "outputs": [
    {
     "data": {
      "text/plain": [
       "[0.008999124978824772,\n",
       " 0.021945681761470257,\n",
       " 0.017401283169722843,\n",
       " 0.012122452771192019,\n",
       " 0.00618679665268959,\n",
       " 0.0049154506395271726,\n",
       " 0.012887427941413308,\n",
       " 0.021956554779315348,\n",
       " 0.0295926106465236,\n",
       " 0.025660056780765335,\n",
       " 0.01592701072995316]"
      ]
     },
     "execution_count": 10,
     "metadata": {},
     "output_type": "execute_result"
    }
   ],
   "source": [
    "non_mammal_std"
   ]
  },
  {
   "cell_type": "code",
   "execution_count": 38,
   "id": "32f80a93",
   "metadata": {},
   "outputs": [
    {
     "data": {
      "text/plain": [
       "MannwhitneyuResult(statistic=72.0, pvalue=0.2452781168067728)"
      ]
     },
     "execution_count": 38,
     "metadata": {},
     "output_type": "execute_result"
    }
   ],
   "source": [
    "mannwhitneyu(mammal_std, non_mammal_std)"
   ]
  }
 ],
 "metadata": {
  "kernelspec": {
   "display_name": "Python 3",
   "language": "python",
   "name": "python3"
  },
  "language_info": {
   "codemirror_mode": {
    "name": "ipython",
    "version": 3
   },
   "file_extension": ".py",
   "mimetype": "text/x-python",
   "name": "python",
   "nbconvert_exporter": "python",
   "pygments_lexer": "ipython3",
   "version": "3.10.5"
  }
 },
 "nbformat": 4,
 "nbformat_minor": 5
}
